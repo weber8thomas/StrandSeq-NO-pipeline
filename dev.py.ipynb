{
 "cells": [
  {
   "cell_type": "code",
   "execution_count": 46,
   "metadata": {},
   "outputs": [
    {
     "name": "stdout",
     "output_type": "stream",
     "text": [
      "['HGSVCxpool2x02', 'HGSVCpool1quadrant2KAPA', 'HGSVCpool2OPSfromFrozen2ul', 'HGSVCpool2iTRUE5', 'GM19705x01', 'GM19705iTRU3C', 'HGSVCPool1x02', 'HGSVCxpool1x01', 'HGSVCxPool1']\n"
     ]
    }
   ],
   "source": [
    "import os, sys, collections\n",
    "\n",
    "dir = \"/scratch/tweber/DATA/MC_DATA/EVA_scNOVA_comparison_090523\"\n",
    "comparisons = [\n",
    "    (\"GM19705x01\", \"GM19705iTRU3C\"),\n",
    "    (\"HGSVCxpool1x01\", \"HGSVCPool1x02\", \"HGSVCpool1quadrant2KAPA\", \"HGSVCxPool1\"),\n",
    "    (\"HGSVCxpool2x02\", \"HGSVCpool2iTRUE5\", \"HGSVCpool2OPSfromFrozen2ul\"),\n",
    "]\n",
    "\n",
    "# comparisons = collections.defaultdict(list)\n",
    "\n",
    "def check_d(d):\n",
    "    if d not in [\"config\", \"log\", \".DS_Store\", \"._.DS_Store\"] and \".vs.\" not in d:\n",
    "        return d\n",
    "\n",
    "# Traverse the directory structure\n",
    "top_dirs = [check_d(d) for d in os.listdir(dir) if check_d(d)]\n",
    "print(top_dirs)\n",
    "assert len(set([sub_e for e in comparisons for sub_e in e]).intersection(set(top_dirs))) == len(set(top_dirs))\n"
   ]
  },
  {
   "cell_type": "code",
   "execution_count": null,
   "metadata": {},
   "outputs": [],
   "source": []
  },
  {
   "cell_type": "code",
   "execution_count": 38,
   "metadata": {},
   "outputs": [
    {
     "data": {
      "text/plain": [
       "defaultdict(list, {})"
      ]
     },
     "execution_count": 38,
     "metadata": {},
     "output_type": "execute_result"
    }
   ],
   "source": [
    "comparisons"
   ]
  }
 ],
 "metadata": {
  "kernelspec": {
   "display_name": "notebook",
   "language": "python",
   "name": "python3"
  },
  "language_info": {
   "codemirror_mode": {
    "name": "ipython",
    "version": 3
   },
   "file_extension": ".py",
   "mimetype": "text/x-python",
   "name": "python",
   "nbconvert_exporter": "python",
   "pygments_lexer": "ipython3",
   "version": "3.10.8"
  },
  "orig_nbformat": 4
 },
 "nbformat": 4,
 "nbformat_minor": 2
}
